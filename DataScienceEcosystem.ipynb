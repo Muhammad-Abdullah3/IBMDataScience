{
 "cells": [
  {
   "cell_type": "markdown",
   "id": "c31c4957",
   "metadata": {},
   "source": [
    "# Data Science Ecosystem.ipynb"
   ]
  },
  {
   "cell_type": "markdown",
   "id": "458ca91b",
   "metadata": {},
   "source": [
    "# Introduction\n",
    "                        My name is Muhammad Abdullah and I am a student trying to learn data science. In this notebook we will cover all the exercises given to us in the final peer graded assignment for the course named \"Tools for Data Science\" on Coursera and provided by IBM. Throughout this notebook we will try to give the answerswith precision."
   ]
  },
  {
   "cell_type": "markdown",
   "id": "a2254888",
   "metadata": {},
   "source": [
    "# Data Science Languages:\n",
    "                                        In this markdown we'll list down the languages used in data science or by data scientists.\n",
    "                                        \n",
    "1. Python\n",
    "2. R\n",
    "3. SQL\n",
    "4. Scala\n",
    "5. Java\n",
    "6. C++\n",
    "7. Julia\n",
    "                                   \n",
    "                                    "
   ]
  },
  {
   "cell_type": "markdown",
   "id": "97442835",
   "metadata": {},
   "source": [
    "# Data Science Libraries:\n",
    "                                        In this markdown we'll list down the Libraries used for data science.\n",
    "                                        \n",
    "1. Matplotlib\n",
    "2. Pandas\n",
    "3. Numpy\n",
    "4. Scipy\n",
    "5. Seaborn\n",
    "6. Scikit-learn\n",
    "7. Tensorflow\n",
    "8. Keras\n",
    "9. Pytorch\n",
    "10. Vegas\n",
    "11. Apache Spark\n",
    "12. Big DL\n",
    "13. ggplot2\n",
    "           "
   ]
  },
  {
   "cell_type": "markdown",
   "id": "4e02f99d",
   "metadata": {},
   "source": [
    "| Name              | Category     | Type        |\n",
    "|-------------------|--------------|-------------|\n",
    "| MySQL             | Database     | Open source |\n",
    "| PostgreSQL        | Database     | Open source |\n",
    "| Oracle Database   | Database     | Commercial  |\n",
    "| Microsoft SQL Server | Database  | Commercial  |\n",
    "| MongoDB           | Database     | Open source |\n",
    "| SQLite            | Database     | Open source |\n",
    "| Elasticsearch    | Database     | Open source |\n",
    "| Redis             | Database     | Open source |\n",
    "| Apache Cassandra  | Database     | Open source |\n",
    "| Neo4j             | Database     | Open source |\n",
    "| Apache Kafka      | Messaging    | Open source |\n",
    "| RabbitMQ          | Messaging    | Open source |\n",
    "| Apache ActiveMQ   | Messaging    | Open source |\n",
    "| IBM MQ            | Messaging    | Commercial  |\n",
    "| Apache Hadoop     | Big Data     | Open source |\n",
    "| Apache Spark      | Big Data     | Open source |\n",
    "| Apache Flink      | Big Data     | Open source |\n",
    "| Microsoft Azure HDInsight | Big Data | Commercial  |\n",
    "| Google BigQuery   | Big Data     | Commercial  |\n",
    "| Amazon Redshift   | Big Data     | Commercial  |\n"
   ]
  },
  {
   "cell_type": "markdown",
   "id": "c75ba900",
   "metadata": {},
   "source": [
    "### Arithimetic Intro\n",
    "Below are a few examples of evaluating arithmetic expressions in Python"
   ]
  },
  {
   "cell_type": "code",
   "execution_count": 1,
   "id": "c704d919",
   "metadata": {},
   "outputs": [
    {
     "data": {
      "text/plain": [
       "17"
      ]
     },
     "execution_count": 1,
     "metadata": {},
     "output_type": "execute_result"
    }
   ],
   "source": [
    "(3*4)+5\n",
    "#This a simple arithmetic expression to mutiply then add integers"
   ]
  },
  {
   "cell_type": "markdown",
   "id": "e3f48065",
   "metadata": {},
   "source": [
    "### Minutes to Hours"
   ]
  },
  {
   "cell_type": "code",
   "execution_count": 3,
   "id": "1e004f95",
   "metadata": {},
   "outputs": [
    {
     "data": {
      "text/plain": [
       "3.3333333333333335"
      ]
     },
     "execution_count": 3,
     "metadata": {},
     "output_type": "execute_result"
    }
   ],
   "source": [
    "min = 200\n",
    "hr = min/60\n",
    "#This will convert 200 minutes to hours by diving by 60\n",
    "hr"
   ]
  },
  {
   "cell_type": "markdown",
   "id": "5c73c1b9",
   "metadata": {},
   "source": [
    "**Objectives**\n",
    "\n",
    "- List of DS Languages \n",
    "- List of DS Libraries\n",
    "- Table of DS Tools\n",
    "- Arithimetic Operation Code\n",
    "- Minutes to Hours Code\n"
   ]
  },
  {
   "cell_type": "markdown",
   "id": "10dbd577",
   "metadata": {},
   "source": [
    "# Author's Name: Muhammad Abdullah"
   ]
  },
  {
   "cell_type": "code",
   "execution_count": null,
   "id": "d27108cf",
   "metadata": {},
   "outputs": [],
   "source": []
  }
 ],
 "metadata": {
  "kernelspec": {
   "display_name": "Python 3 (ipykernel)",
   "language": "python",
   "name": "python3"
  },
  "language_info": {
   "codemirror_mode": {
    "name": "ipython",
    "version": 3
   },
   "file_extension": ".py",
   "mimetype": "text/x-python",
   "name": "python",
   "nbconvert_exporter": "python",
   "pygments_lexer": "ipython3",
   "version": "3.11.1"
  }
 },
 "nbformat": 4,
 "nbformat_minor": 5
}
